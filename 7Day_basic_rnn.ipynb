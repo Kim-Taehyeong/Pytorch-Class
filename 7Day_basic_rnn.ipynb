{
 "cells": [
  {
   "cell_type": "code",
   "execution_count": 4,
   "id": "olympic-joint",
   "metadata": {},
   "outputs": [],
   "source": [
    "import numpy as np "
   ]
  },
  {
   "cell_type": "code",
   "execution_count": 5,
   "id": "accredited-photography",
   "metadata": {},
   "outputs": [],
   "source": [
    "timesteps = 10\n",
    "input_size = 4\n",
    "hidden_size = 8"
   ]
  },
  {
   "cell_type": "code",
   "execution_count": 6,
   "id": "steady-extension",
   "metadata": {},
   "outputs": [],
   "source": [
    "inputs = np.random.random((timesteps, input_size))"
   ]
  },
  {
   "cell_type": "code",
   "execution_count": 7,
   "id": "determined-turning",
   "metadata": {},
   "outputs": [
    {
     "data": {
      "text/plain": [
       "array([[0.06585705, 0.99015902, 0.85103389, 0.84295914],\n",
       "       [0.56657533, 0.62549111, 0.4625371 , 0.07189168],\n",
       "       [0.60035288, 0.15557232, 0.58837958, 0.8879723 ],\n",
       "       [0.07225792, 0.84176668, 0.21075511, 0.62261083],\n",
       "       [0.79486773, 0.29621165, 0.02264882, 0.06980599],\n",
       "       [0.9621024 , 0.28769997, 0.29921326, 0.12509873],\n",
       "       [0.24522641, 0.76552082, 0.19428971, 0.29643361],\n",
       "       [0.63098481, 0.22755005, 0.22659335, 0.18085817],\n",
       "       [0.04410012, 0.56717582, 0.7233894 , 0.8943091 ],\n",
       "       [0.6627478 , 0.50838819, 0.30077705, 0.59344878]])"
      ]
     },
     "execution_count": 7,
     "metadata": {},
     "output_type": "execute_result"
    }
   ],
   "source": [
    "inputs"
   ]
  },
  {
   "cell_type": "code",
   "execution_count": 8,
   "id": "matched-processor",
   "metadata": {},
   "outputs": [],
   "source": [
    "hidden_state_t = np.zeros((hidden_size))"
   ]
  },
  {
   "cell_type": "code",
   "execution_count": 9,
   "id": "successful-sharp",
   "metadata": {},
   "outputs": [
    {
     "data": {
      "text/plain": [
       "array([0., 0., 0., 0., 0., 0., 0., 0.])"
      ]
     },
     "execution_count": 9,
     "metadata": {},
     "output_type": "execute_result"
    }
   ],
   "source": [
    "hidden_state_t"
   ]
  },
  {
   "cell_type": "code",
   "execution_count": null,
   "id": "classified-burner",
   "metadata": {},
   "outputs": [],
   "source": []
  },
  {
   "cell_type": "code",
   "execution_count": 77,
   "id": "powered-tuition",
   "metadata": {},
   "outputs": [],
   "source": [
    "Wx = np.random.random((hidden_size, input_size))  # (8, 4)크기의 2D 텐서 생성. 입력에 대한 가중치.\n",
    "Wh = np.random.random((hidden_size, hidden_size)) # (8, 8)크기의 2D 텐서 생성. 은닉 상태에 대한 가중치.\n",
    "b = np.random.random((hidden_size))                # (8,)크기의 1D 텐서 생성. 이 값은 편향(bias)."
   ]
  },
  {
   "cell_type": "code",
   "execution_count": 78,
   "id": "stuck-secretary",
   "metadata": {},
   "outputs": [
    {
     "name": "stdout",
     "output_type": "stream",
     "text": [
      "(8, 4)\n",
      "(8, 8)\n",
      "(8,)\n"
     ]
    }
   ],
   "source": [
    "print(np.shape(Wx))\n",
    "print(np.shape(Wh))\n",
    "print(np.shape(b))"
   ]
  },
  {
   "cell_type": "code",
   "execution_count": 88,
   "id": "uniform-appendix",
   "metadata": {
    "scrolled": true
   },
   "outputs": [
    {
     "name": "stdout",
     "output_type": "stream",
     "text": [
      "total hidden shape (1, 8)\n",
      "total hidden shape (2, 8)\n",
      "total hidden shape (3, 8)\n",
      "total hidden shape (4, 8)\n",
      "total hidden shape (5, 8)\n",
      "total hidden shape (6, 8)\n",
      "total hidden shape (7, 8)\n",
      "total hidden shape (8, 8)\n",
      "total hidden shape (9, 8)\n",
      "total hidden shape (10, 8)\n"
     ]
    }
   ],
   "source": [
    "total_hidden_states = []\n",
    "\n",
    "# 메모리 셀 동작\n",
    "for input_t in inputs: \n",
    "    output_t = np.tanh(np.dot(Wx,input_t) + np.dot(Wh,hidden_state_t) + b) \n",
    "    total_hidden_states.append(list(output_t)) \n",
    "    \n",
    "    print('total hidden shape {}'.format(np.shape(total_hidden_states)))\n",
    "    hidden_state_t = output_t\n",
    "\n"
   ]
  },
  {
   "cell_type": "code",
   "execution_count": 92,
   "id": "numerical-impossible",
   "metadata": {},
   "outputs": [
    {
     "name": "stdout",
     "output_type": "stream",
     "text": [
      "[[0.99928174 0.99972603 0.99993975 0.99996451 0.9999982  0.9994856\n",
      "  0.99987275 0.99999386]\n",
      " [0.99959369 0.99996969 0.99999074 0.99999323 0.99999976 0.9999118\n",
      "  0.99998087 0.99999963]\n",
      " [0.99971747 0.99991848 0.99998434 0.99998824 0.99999967 0.99984749\n",
      "  0.99995817 0.99999825]\n",
      " [0.99965299 0.99984848 0.99996414 0.99998903 0.99999926 0.9998443\n",
      "  0.99996392 0.99999797]\n",
      " [0.99959291 0.9999586  0.99998366 0.99999289 0.99999959 0.99993587\n",
      "  0.99998546 0.99999946]\n",
      " [0.99981745 0.99994235 0.99999068 0.99999269 0.99999984 0.99989354\n",
      "  0.99997029 0.99999888]\n",
      " [0.99961623 0.99991828 0.99996875 0.99999005 0.99999929 0.99992532\n",
      "  0.99998123 0.99999865]\n",
      " [0.99917048 0.99983036 0.99995524 0.9999533  0.99999845 0.99956302\n",
      "  0.99987478 0.99999386]\n",
      " [0.99920577 0.99975854 0.99994256 0.99996958 0.9999982  0.99951072\n",
      "  0.99988985 0.99999573]\n",
      " [0.99905926 0.99983035 0.99995165 0.9999785  0.99999836 0.99959709\n",
      "  0.99992363 0.99999808]]\n",
      "(10, 8)\n"
     ]
    }
   ],
   "source": [
    "total_hidden_states = np.array(total_hidden_states) \n",
    "\n",
    "print(total_hidden_states)       \n",
    "print(total_hidden_states.shape) # (timesteps, output_dim)의 크기. 이 경우 (10, 8)의 크기를 가지는 메모리 셀의 2D 텐서를 출력.\n"
   ]
  }
 ],
 "metadata": {
  "kernelspec": {
   "display_name": "Python 3",
   "language": "python",
   "name": "python3"
  },
  "language_info": {
   "codemirror_mode": {
    "name": "ipython",
    "version": 3
   },
   "file_extension": ".py",
   "mimetype": "text/x-python",
   "name": "python",
   "nbconvert_exporter": "python",
   "pygments_lexer": "ipython3",
   "version": "3.7.9"
  }
 },
 "nbformat": 4,
 "nbformat_minor": 5
}
