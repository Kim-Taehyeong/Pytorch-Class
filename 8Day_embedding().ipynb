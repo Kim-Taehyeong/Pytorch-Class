{
 "cells": [
  {
   "cell_type": "code",
   "execution_count": 1,
   "id": "interested-maker",
   "metadata": {},
   "outputs": [],
   "source": [
    "import torch\n",
    "import torch.nn as nn\n",
    "import numpy as np"
   ]
  },
  {
   "cell_type": "code",
   "execution_count": 2,
   "id": "valued-helen",
   "metadata": {},
   "outputs": [
    {
     "data": {
      "text/plain": [
       "{'code', 'how', 'know', 'need', 'to', 'you'}"
      ]
     },
     "execution_count": 2,
     "metadata": {},
     "output_type": "execute_result"
    }
   ],
   "source": [
    "train_data = 'you need to know how to code'\n",
    "word_set = set(train_data.split()) # set () : 중괄호를 사용하는 것이 Dictionary 와 유사, but 값이 없음, 중복이 제거됨 \n",
    "word_set"
   ]
  },
  {
   "cell_type": "code",
   "execution_count": 3,
   "id": "convinced-furniture",
   "metadata": {},
   "outputs": [
    {
     "data": {
      "text/plain": [
       "{'how': 0, 'know': 1, 'code': 2, 'you': 3, 'need': 4, 'to': 5}"
      ]
     },
     "execution_count": 3,
     "metadata": {},
     "output_type": "execute_result"
    }
   ],
   "source": [
    "vocab = {token: i for i, token in enumerate(word_set)} # enumerate : 반복문 사용 시 몇 번째 반복문인지 확인이 필요 , (index , value) 반환\n",
    "vocab"
   ]
  },
  {
   "cell_type": "code",
   "execution_count": 4,
   "id": "nearby-garage",
   "metadata": {},
   "outputs": [
    {
     "data": {
      "text/plain": [
       "{'how': 0, 'know': 1, 'code': 2, 'you': 3, 'need': 4, 'to': 5}"
      ]
     },
     "execution_count": 4,
     "metadata": {},
     "output_type": "execute_result"
    }
   ],
   "source": [
    "vocab2 = {}\n",
    "for i, token in enumerate(word_set):\n",
    "    vocab2[token] = i\n",
    "\n",
    "vocab2"
   ]
  },
  {
   "cell_type": "code",
   "execution_count": 5,
   "id": "equal-disposition",
   "metadata": {},
   "outputs": [
    {
     "data": {
      "text/plain": [
       "6"
      ]
     },
     "execution_count": 5,
     "metadata": {},
     "output_type": "execute_result"
    }
   ],
   "source": [
    "len(vocab)"
   ]
  },
  {
   "cell_type": "code",
   "execution_count": 6,
   "id": "casual-subscription",
   "metadata": {},
   "outputs": [],
   "source": [
    "embedding_layer = nn.Embedding(num_embeddings = len(vocab),   \n",
    "                               embedding_dim = 3)            \n",
    "## num_embeddings  : 임베딩을 할 단어들의 개수 \n",
    "## embedding_dim : 임베딩 벡터의 차원 (지정)\n",
    "                                                 "
   ]
  },
  {
   "cell_type": "code",
   "execution_count": 7,
   "id": "treated-might",
   "metadata": {},
   "outputs": [],
   "source": [
    "lookup_tensor = torch.tensor([vocab['code']], dtype=torch.long)"
   ]
  },
  {
   "cell_type": "code",
   "execution_count": 8,
   "id": "pleasant-quebec",
   "metadata": {},
   "outputs": [
    {
     "data": {
      "text/plain": [
       "tensor([2])"
      ]
     },
     "execution_count": 8,
     "metadata": {},
     "output_type": "execute_result"
    }
   ],
   "source": [
    "lookup_tensor"
   ]
  },
  {
   "cell_type": "code",
   "execution_count": 9,
   "id": "identical-sperm",
   "metadata": {},
   "outputs": [],
   "source": [
    "w = embedding_layer(lookup_tensor)"
   ]
  },
  {
   "cell_type": "code",
   "execution_count": 10,
   "id": "banned-donna",
   "metadata": {},
   "outputs": [
    {
     "data": {
      "text/plain": [
       "tensor([[-0.7122,  0.5291, -0.2349]], grad_fn=<EmbeddingBackward>)"
      ]
     },
     "execution_count": 10,
     "metadata": {},
     "output_type": "execute_result"
    }
   ],
   "source": [
    "w"
   ]
  },
  {
   "cell_type": "code",
   "execution_count": 11,
   "id": "speaking-forty",
   "metadata": {},
   "outputs": [
    {
     "data": {
      "text/plain": [
       "Parameter containing:\n",
       "tensor([[ 0.8374, -0.7984,  1.8893],\n",
       "        [-0.3443,  0.0564, -0.8094],\n",
       "        [-0.7122,  0.5291, -0.2349],\n",
       "        [ 0.9541,  1.1322,  1.9058],\n",
       "        [-1.1677,  1.2505,  1.1721],\n",
       "        [ 1.5299,  0.6503,  0.6747]], requires_grad=True)"
      ]
     },
     "execution_count": 11,
     "metadata": {},
     "output_type": "execute_result"
    }
   ],
   "source": [
    "embedding_layer.weight"
   ]
  },
  {
   "cell_type": "code",
   "execution_count": 13,
   "id": "activated-wilson",
   "metadata": {},
   "outputs": [],
   "source": [
    "lookup_tensor2 = torch.tensor([vocab['you'], vocab['need'], vocab['code']], dtype=torch.long)\n",
    "w = embedding_layer(lookup_tensor2)"
   ]
  },
  {
   "cell_type": "code",
   "execution_count": 14,
   "id": "regional-hungary",
   "metadata": {},
   "outputs": [
    {
     "data": {
      "text/plain": [
       "tensor([[ 0.9541,  1.1322,  1.9058],\n",
       "        [-1.1677,  1.2505,  1.1721],\n",
       "        [-0.7122,  0.5291, -0.2349]], grad_fn=<EmbeddingBackward>)"
      ]
     },
     "execution_count": 14,
     "metadata": {},
     "output_type": "execute_result"
    }
   ],
   "source": [
    "w"
   ]
  },
  {
   "cell_type": "code",
   "execution_count": null,
   "id": "qualified-spread",
   "metadata": {},
   "outputs": [],
   "source": []
  }
 ],
 "metadata": {
  "kernelspec": {
   "display_name": "Python 3",
   "language": "python",
   "name": "python3"
  },
  "language_info": {
   "codemirror_mode": {
    "name": "ipython",
    "version": 3
   },
   "file_extension": ".py",
   "mimetype": "text/x-python",
   "name": "python",
   "nbconvert_exporter": "python",
   "pygments_lexer": "ipython3",
   "version": "3.7.9"
  }
 },
 "nbformat": 4,
 "nbformat_minor": 5
}
