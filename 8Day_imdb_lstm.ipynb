{
 "cells": [
  {
   "cell_type": "code",
   "execution_count": 1,
   "metadata": {
    "id": "09fFbAd4n9Kj"
   },
   "outputs": [],
   "source": [
    "import os\n",
    "import torch\n",
    "import torch.nn as nn\n",
    "import torch.nn.functional as F\n",
    "from torchtext.legacy import data, datasets\n",
    "import random\n",
    "\n",
    "#from torchtext import data, datasets"
   ]
  },
  {
   "cell_type": "code",
   "execution_count": 2,
   "metadata": {
    "colab": {
     "base_uri": "https://localhost:8080/",
     "height": 35
    },
    "executionInfo": {
     "elapsed": 256,
     "status": "ok",
     "timestamp": 1628616093044,
     "user": {
      "displayName": "성정훈",
      "photoUrl": "",
      "userId": "13760426982035062599"
     },
     "user_tz": -540
    },
    "id": "cMAAy-xBsBX3",
    "outputId": "f3dca1b4-1fe4-4f65-934a-6a0a9cfa1375"
   },
   "outputs": [
    {
     "data": {
      "text/plain": [
       "'0.10.0'"
      ]
     },
     "execution_count": 2,
     "metadata": {},
     "output_type": "execute_result"
    }
   ],
   "source": [
    "import torchtext\n",
    "torchtext.__version__"
   ]
  },
  {
   "cell_type": "code",
   "execution_count": 3,
   "metadata": {
    "colab": {
     "base_uri": "https://localhost:8080/"
    },
    "executionInfo": {
     "elapsed": 245,
     "status": "ok",
     "timestamp": 1628616109050,
     "user": {
      "displayName": "성정훈",
      "photoUrl": "",
      "userId": "13760426982035062599"
     },
     "user_tz": -540
    },
    "id": "Wu2GXpCgtIuB",
    "outputId": "6ad66941-9f7b-476c-c7e7-e57b1a32fbdc"
   },
   "outputs": [
    {
     "data": {
      "text/plain": [
       "<torch._C.Generator at 0x2128318cad0>"
      ]
     },
     "execution_count": 3,
     "metadata": {},
     "output_type": "execute_result"
    }
   ],
   "source": [
    "SEED = 5\n",
    "random.seed(SEED)\n",
    "torch.manual_seed(SEED)"
   ]
  },
  {
   "cell_type": "code",
   "execution_count": 4,
   "metadata": {
    "colab": {
     "base_uri": "https://localhost:8080/"
    },
    "executionInfo": {
     "elapsed": 240,
     "status": "ok",
     "timestamp": 1628616128852,
     "user": {
      "displayName": "성정훈",
      "photoUrl": "",
      "userId": "13760426982035062599"
     },
     "user_tz": -540
    },
    "id": "TQPBiRtRn9Kl",
    "outputId": "465dae5d-5be6-4eff-d4e0-bc43727f6535"
   },
   "outputs": [
    {
     "name": "stdout",
     "output_type": "stream",
     "text": [
      " GPU ? CPU ?  - cuda:0\n"
     ]
    }
   ],
   "source": [
    "# 하이퍼파라미터\n",
    "\n",
    "BATCH_SIZE = 64\n",
    "lr = 0.001\n",
    "EPOCHS =10\n",
    "\n",
    "DEVICE = torch.device(\"cuda:0\" if torch.cuda.is_available() else \"cpu\") \n",
    "#DEVICE = torch.device(\"cpu\")\n",
    "\n",
    "print(\" GPU ? CPU ?  - {}\".format(DEVICE))"
   ]
  },
  {
   "cell_type": "code",
   "execution_count": 5,
   "metadata": {
    "colab": {
     "base_uri": "https://localhost:8080/"
    },
    "executionInfo": {
     "elapsed": 255,
     "status": "ok",
     "timestamp": 1628616132048,
     "user": {
      "displayName": "성정훈",
      "photoUrl": "",
      "userId": "13760426982035062599"
     },
     "user_tz": -540
    },
    "id": "xdR5LKw_s_Tq",
    "outputId": "5c6a02b7-8b7d-4943-c249-8a7e4c25f9ae"
   },
   "outputs": [
    {
     "name": "stdout",
     "output_type": "stream",
     "text": [
      "NVIDIA GeForce RTX 3080\n"
     ]
    }
   ],
   "source": [
    "print(torch.cuda.get_device_name(0))"
   ]
  },
  {
   "cell_type": "code",
   "execution_count": 6,
   "metadata": {
    "id": "fkcZeNkln9Kn"
   },
   "outputs": [],
   "source": [
    "# 데이터 로딩하기\n",
    "TEXT = data.Field(sequential=True, batch_first=True, lower=True)\n",
    "LABEL = data.Field(sequential=False, batch_first=True)\n"
   ]
  },
  {
   "cell_type": "code",
   "execution_count": 8,
   "metadata": {
    "id": "FHc42eTroXEZ"
   },
   "outputs": [],
   "source": [
    "trainset, testset = datasets.IMDB.splits(TEXT, LABEL)\n"
   ]
  },
  {
   "cell_type": "code",
   "execution_count": null,
   "metadata": {
    "colab": {
     "base_uri": "https://localhost:8080/"
    },
    "executionInfo": {
     "elapsed": 10,
     "status": "ok",
     "timestamp": 1628616159773,
     "user": {
      "displayName": "성정훈",
      "photoUrl": "",
      "userId": "13760426982035062599"
     },
     "user_tz": -540
    },
    "id": "_T23G8z6t6ME",
    "outputId": "439de5fb-51f9-413d-eafe-558506b849a9"
   },
   "outputs": [],
   "source": [
    "print('trainset의 구성 요소 출력 : ', trainset.fields)\n"
   ]
  },
  {
   "cell_type": "code",
   "execution_count": null,
   "metadata": {
    "colab": {
     "base_uri": "https://localhost:8080/"
    },
    "executionInfo": {
     "elapsed": 7,
     "status": "ok",
     "timestamp": 1628616159773,
     "user": {
      "displayName": "성정훈",
      "photoUrl": "",
      "userId": "13760426982035062599"
     },
     "user_tz": -540
    },
    "id": "SGuvh9h5t5rt",
    "outputId": "db2d5d6b-8f20-4ab4-cc74-b11eea30a158"
   },
   "outputs": [],
   "source": [
    "print('trainset의 구성 요소 출력 : ', testset.fields)"
   ]
  },
  {
   "cell_type": "code",
   "execution_count": null,
   "metadata": {
    "colab": {
     "base_uri": "https://localhost:8080/"
    },
    "executionInfo": {
     "elapsed": 6,
     "status": "ok",
     "timestamp": 1628616159774,
     "user": {
      "displayName": "성정훈",
      "photoUrl": "",
      "userId": "13760426982035062599"
     },
     "user_tz": -540
    },
    "id": "ElLa61J9rr3N",
    "outputId": "2ceb0559-fe87-440d-d6a9-dcf742b503d6"
   },
   "outputs": [],
   "source": [
    "print(vars(trainset[0]))"
   ]
  },
  {
   "cell_type": "code",
   "execution_count": null,
   "metadata": {
    "id": "ixe8jPvjq_Zx"
   },
   "outputs": [],
   "source": [
    "TEXT.build_vocab(trainset, min_freq=10)\n",
    "LABEL.build_vocab(trainset)\n"
   ]
  },
  {
   "cell_type": "code",
   "execution_count": null,
   "metadata": {
    "id": "PII3A9cbrDpp"
   },
   "outputs": [],
   "source": [
    "vocab_size = len(TEXT.vocab)\n",
    "n_classes = 2"
   ]
  },
  {
   "cell_type": "code",
   "execution_count": null,
   "metadata": {
    "colab": {
     "base_uri": "https://localhost:8080/"
    },
    "executionInfo": {
     "elapsed": 306,
     "status": "ok",
     "timestamp": 1628616185356,
     "user": {
      "displayName": "성정훈",
      "photoUrl": "",
      "userId": "13760426982035062599"
     },
     "user_tz": -540
    },
    "id": "Kw-8bTj5rE8O",
    "outputId": "b110edf0-d444-465b-dbb7-e0d36f7232fa"
   },
   "outputs": [],
   "source": [
    "print('단어 집합의 크기 : {}'.format(vocab_size))\n",
    "print('클래스의 개수 : {}'.format(n_classes))"
   ]
  },
  {
   "cell_type": "code",
   "execution_count": null,
   "metadata": {
    "colab": {
     "base_uri": "https://localhost:8080/"
    },
    "executionInfo": {
     "elapsed": 854,
     "status": "ok",
     "timestamp": 1628616196397,
     "user": {
      "displayName": "성정훈",
      "photoUrl": "",
      "userId": "13760426982035062599"
     },
     "user_tz": -540
    },
    "id": "TCymp4zhrIbS",
    "outputId": "74ef0a72-057c-43ee-9038-09bb2c7da4f0"
   },
   "outputs": [],
   "source": [
    "print(TEXT.vocab.stoi)"
   ]
  },
  {
   "cell_type": "code",
   "execution_count": null,
   "metadata": {
    "id": "thyA9MheoaaH"
   },
   "outputs": [],
   "source": [
    "# 학습용 데이터를 학습셋 80% 검증셋 20% 로 나누기\n",
    "trainset, valset = trainset.split(split_ratio=0.8)\n"
   ]
  },
  {
   "cell_type": "code",
   "execution_count": null,
   "metadata": {
    "colab": {
     "base_uri": "https://localhost:8080/"
    },
    "executionInfo": {
     "elapsed": 242,
     "status": "ok",
     "timestamp": 1628616226945,
     "user": {
      "displayName": "성정훈",
      "photoUrl": "",
      "userId": "13760426982035062599"
     },
     "user_tz": -540
    },
    "id": "AA_kdaan2l29",
    "outputId": "42ccedcf-50f8-4c6f-f0a5-23700d6ff250"
   },
   "outputs": [],
   "source": [
    "trainset"
   ]
  },
  {
   "cell_type": "code",
   "execution_count": null,
   "metadata": {
    "colab": {
     "base_uri": "https://localhost:8080/"
    },
    "executionInfo": {
     "elapsed": 247,
     "status": "ok",
     "timestamp": 1628616237866,
     "user": {
      "displayName": "성정훈",
      "photoUrl": "",
      "userId": "13760426982035062599"
     },
     "user_tz": -540
    },
    "id": "jm4GFlWPpFPe",
    "outputId": "460444be-c9e9-4eaa-ba98-b402b020cbcc"
   },
   "outputs": [],
   "source": [
    "print('train 데이터의 크기 : {}' .format(len(trainset)))\n",
    "print('val 데이터의 크기 : {}' .format(len(valset)))\n"
   ]
  },
  {
   "cell_type": "code",
   "execution_count": null,
   "metadata": {
    "id": "DUgSXBiVorZr"
   },
   "outputs": [],
   "source": [
    "train_iter, val_iter, test_iter = data.BucketIterator.splits(\n",
    "        (trainset, valset, testset), batch_size=BATCH_SIZE,\n",
    "        shuffle=True, repeat=False)"
   ]
  },
  {
   "cell_type": "code",
   "execution_count": null,
   "metadata": {
    "colab": {
     "base_uri": "https://localhost:8080/"
    },
    "executionInfo": {
     "elapsed": 279,
     "status": "ok",
     "timestamp": 1628616368315,
     "user": {
      "displayName": "성정훈",
      "photoUrl": "",
      "userId": "13760426982035062599"
     },
     "user_tz": -540
    },
    "id": "g-4Luzy8n9Ko",
    "outputId": "e4720cb8-8f8d-411e-fc27-3f9cb2581f0d"
   },
   "outputs": [],
   "source": [
    "batch = next(iter(train_iter)) # 첫번째 미니배치\n",
    "print(batch.text.shape)"
   ]
  },
  {
   "cell_type": "code",
   "execution_count": null,
   "metadata": {
    "colab": {
     "base_uri": "https://localhost:8080/"
    },
    "executionInfo": {
     "elapsed": 264,
     "status": "ok",
     "timestamp": 1628616382825,
     "user": {
      "displayName": "성정훈",
      "photoUrl": "",
      "userId": "13760426982035062599"
     },
     "user_tz": -540
    },
    "id": "RNMlCukqqfUM",
    "outputId": "5f0d49cd-3527-468e-9bd0-60f63120c00b"
   },
   "outputs": [],
   "source": [
    "batch.text"
   ]
  },
  {
   "cell_type": "code",
   "execution_count": null,
   "metadata": {
    "colab": {
     "base_uri": "https://localhost:8080/"
    },
    "executionInfo": {
     "elapsed": 3,
     "status": "ok",
     "timestamp": 1628615415420,
     "user": {
      "displayName": "성정훈",
      "photoUrl": "",
      "userId": "13760426982035062599"
     },
     "user_tz": -540
    },
    "id": "vicUVA0kn9Ko",
    "outputId": "251d54df-058f-4bc0-e9ee-6160463a557d"
   },
   "outputs": [],
   "source": [
    "print(batch)"
   ]
  },
  {
   "cell_type": "code",
   "execution_count": null,
   "metadata": {
    "colab": {
     "base_uri": "https://localhost:8080/"
    },
    "executionInfo": {
     "elapsed": 251,
     "status": "ok",
     "timestamp": 1628616407078,
     "user": {
      "displayName": "성정훈",
      "photoUrl": "",
      "userId": "13760426982035062599"
     },
     "user_tz": -540
    },
    "id": "zpfAufJYn9Kp",
    "outputId": "ae8e8684-1aa8-4388-c023-f0b5d0969d2d"
   },
   "outputs": [],
   "source": [
    "print(\"[학습셋]: %d [검증셋]: %d [테스트셋]: %d [단어수]: %d [클래스] %d\"\n",
    "      % (len(trainset),len(valset), len(testset), vocab_size, n_classes))"
   ]
  },
  {
   "cell_type": "code",
   "execution_count": null,
   "metadata": {
    "id": "gLMJkMH48GrI"
   },
   "outputs": [],
   "source": []
  },
  {
   "cell_type": "code",
   "execution_count": null,
   "metadata": {
    "id": "ClLpZ7p1n9Kq"
   },
   "outputs": [],
   "source": [
    "class BasicLSTM(nn.Module):\n",
    "    def __init__(self, n_layers, hidden_dim, n_vocab, embed_dim, n_classes, dropout_p=0.2):\n",
    "        super(BasicLSTM, self).__init__()\n",
    "        print(\"Building Basic LSTM model...\")\n",
    "        self.n_layers = n_layers\n",
    "        self.embed = nn.Embedding(n_vocab, embed_dim)\n",
    "        \n",
    "        self.hidden_dim = hidden_dim\n",
    "        self.lstm = nn.LSTM(embed_dim, self.hidden_dim,\n",
    "                          num_layers=self.n_layers, batch_first=True)\n",
    "        self.out = nn.Linear(self.hidden_dim, n_classes)\n",
    "        self.dropout = nn.Dropout(dropout_p)\n",
    "\n",
    "\n",
    "    def forward(self, x):\n",
    "        x = self.embed(x)\n",
    "        \n",
    "        output, (hn, cn) = self.lstm(x) #lstm with input, hidden, and internal state \n",
    "        hn = hn[1]\n",
    "        hn = self.dropout(hn)\n",
    "        logit = self.out(hn)\n",
    "        return logit\n",
    "\n"
   ]
  },
  {
   "cell_type": "code",
   "execution_count": null,
   "metadata": {
    "id": "d-xLTppAn9Kr"
   },
   "outputs": [],
   "source": [
    "def train(model, optimizer, train_iter):\n",
    "    model.train()\n",
    "    for b, batch in enumerate(train_iter):\n",
    "\n",
    "        x, y = batch.text.to(DEVICE), batch.label.to(DEVICE)\n",
    "\n",
    "        y.data.sub_(1)  # 레이블 값을 0과 1로 변환   1 -> 0  2- > 1\n",
    "        optimizer.zero_grad()\n",
    "\n",
    "        logit = model(x)\n",
    "        loss = F.cross_entropy(logit, y)\n",
    "        loss.backward()\n",
    "        optimizer.step()"
   ]
  },
  {
   "cell_type": "code",
   "execution_count": null,
   "metadata": {
    "id": "wXH6oNbin9Ks"
   },
   "outputs": [],
   "source": [
    "def evaluate(model, val_iter):\n",
    "  \n",
    "    model.eval()\n",
    "    corrects, total_loss = 0, 0\n",
    "    for batch in val_iter:\n",
    "        x, y = batch.text.to(DEVICE), batch.label.to(DEVICE)\n",
    "\n",
    "        y.data.sub_(1) # 레이블 값을 0과 1로 변환\n",
    "\n",
    "        logit = model(x)\n",
    "        loss = F.cross_entropy(logit, y, reduction='sum')\n",
    "        total_loss += loss.item()\n",
    "        corrects += (logit.max(1)[1].view(y.size()).data == y.data).sum()\n",
    "    size = len(val_iter.dataset)\n",
    "    avg_loss = total_loss / size\n",
    "    avg_accuracy = 100.0 * corrects / size\n",
    "    return avg_loss, avg_accuracy"
   ]
  },
  {
   "cell_type": "code",
   "execution_count": null,
   "metadata": {
    "colab": {
     "base_uri": "https://localhost:8080/",
     "height": 389
    },
    "executionInfo": {
     "elapsed": 491,
     "status": "error",
     "timestamp": 1628616938692,
     "user": {
      "displayName": "성정훈",
      "photoUrl": "",
      "userId": "13760426982035062599"
     },
     "user_tz": -540
    },
    "id": "1lwFwDUan9Ks",
    "outputId": "1aa33d09-4f69-4fa8-f1b8-e22fedb7658f"
   },
   "outputs": [],
   "source": [
    "model = BasicLSTM(2, 256, vocab_size, 400, n_classes, 0.5).to(DEVICE) # layers 2 , hidden_size = 256, embed 400 \n",
    "optimizer = torch.optim.Adam(model.parameters(), lr=lr)"
   ]
  },
  {
   "cell_type": "code",
   "execution_count": null,
   "metadata": {
    "colab": {
     "base_uri": "https://localhost:8080/",
     "height": 400
    },
    "executionInfo": {
     "elapsed": 3,
     "status": "error",
     "timestamp": 1628615130396,
     "user": {
      "displayName": "성정훈",
      "photoUrl": "",
      "userId": "13760426982035062599"
     },
     "user_tz": -540
    },
    "id": "RyXuL0skn9Kt",
    "outputId": "8ca9dd5b-4e19-4b63-a483-a3c903c1436f"
   },
   "outputs": [],
   "source": [
    "best_val_loss = None\n",
    "for e in range(1, EPOCHS+1):\n",
    "    train(model, optimizer, train_iter)\n",
    "    val_loss, val_accuracy = evaluate(model, val_iter)\n",
    "\n",
    "    print(\"[epoch: %d] val loss:%.2f | val accuracy :%.2f\" % (e, val_loss, val_accuracy))\n",
    "    \n",
    "    # 검증 오차가 가장 적은 최적의 모델을 저장\n",
    "    if not best_val_loss or val_loss < best_val_loss:\n",
    "        torch.save(model.state_dict(), './txtclassification.pt')\n",
    "        best_val_loss = val_loss"
   ]
  },
  {
   "cell_type": "code",
   "execution_count": null,
   "metadata": {
    "id": "JudHmhgDn9Kt"
   },
   "outputs": [],
   "source": [
    "model.load_state_dict(torch.load('./txtclassification.pt'))\n",
    "test_loss, test_acc = evaluate(model, test_iter)\n",
    "print('테스트 오차: %5.2f | 테스트 정확도: %5.2f' % (test_loss, test_acc))"
   ]
  },
  {
   "cell_type": "code",
   "execution_count": null,
   "metadata": {
    "id": "7hRq-PnPbUCM"
   },
   "outputs": [],
   "source": []
  }
 ],
 "metadata": {
  "accelerator": "GPU",
  "colab": {
   "collapsed_sections": [],
   "name": "imdb_lstm.ipynb",
   "provenance": [
    {
     "file_id": "1CiSSeacYKF-tEeCnUDlHFwlZzUuheZIt",
     "timestamp": 1628563202908
    }
   ]
  },
  "kernelspec": {
   "display_name": "Python 3",
   "language": "python",
   "name": "python3"
  },
  "language_info": {
   "codemirror_mode": {
    "name": "ipython",
    "version": 3
   },
   "file_extension": ".py",
   "mimetype": "text/x-python",
   "name": "python",
   "nbconvert_exporter": "python",
   "pygments_lexer": "ipython3",
   "version": "3.9.6"
  }
 },
 "nbformat": 4,
 "nbformat_minor": 1
}
